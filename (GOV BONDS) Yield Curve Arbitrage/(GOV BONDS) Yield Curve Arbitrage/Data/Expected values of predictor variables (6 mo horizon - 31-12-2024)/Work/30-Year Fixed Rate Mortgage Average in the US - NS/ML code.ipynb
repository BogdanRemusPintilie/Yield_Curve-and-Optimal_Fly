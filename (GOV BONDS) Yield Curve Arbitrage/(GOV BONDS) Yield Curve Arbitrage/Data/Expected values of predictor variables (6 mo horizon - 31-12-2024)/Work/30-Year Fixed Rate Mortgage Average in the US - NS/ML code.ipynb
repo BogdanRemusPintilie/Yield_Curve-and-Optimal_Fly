{
 "cells": [
  {
   "cell_type": "code",
   "execution_count": 1,
   "id": "edbbeef1-e986-474f-9712-59e985341ff0",
   "metadata": {},
   "outputs": [],
   "source": [
    "import numpy as np\n",
    "import pandas as pd\n",
    "from sklearn.preprocessing import MinMaxScaler\n",
    "from keras.models import Sequential\n",
    "from keras.layers import Dense, LSTM\n",
    "import matplotlib.pyplot as plt\n",
    "plt.style.use('fivethirtyeight')\n",
    "from datetime import datetime, timedelta\n",
    "import tensorflow as tf\n",
    "import random\n",
    "\n",
    "seed_value = 42\n",
    "np.random.seed(seed_value)\n",
    "random.seed(seed_value)\n",
    "tf.random.set_seed(seed_value)"
   ]
  },
  {
   "cell_type": "code",
   "execution_count": 2,
   "id": "04a55dc1-fb91-4ab2-8353-b002f803e2c9",
   "metadata": {},
   "outputs": [],
   "source": [
    "df = pd.read_csv(r\"C:\\Users\\Bogdan\\OneDrive - University of Warwick\\Desktop\\Projects\\(GOV BONDS) Yield Curve Arbitrage\\Data\\Expected values of predictor variables (6 mo horizon - 31-12-2024)\\Work\\30-Year Fixed Rate Mortgage Average in the US - NS\\Done.csv\")\n",
    "df['DATE'] = pd.to_datetime(df['DATE'])\n",
    "df = df.set_index('DATE')\n",
    "name = \"MORTGAGE30US\"\n",
    "\n",
    "data = df[name] # only care about this column\n",
    "dataset = np.array(data).reshape(-1,1)#convert the column to an array and this will be 1-D array # then you need to rehape to a 2-D array cause minMaxScaler takes 2-D arrays and for that use reshape(-1,1) cause you know you want 1 column and the rows are automaticall calculated to satisfy the 1 columns and beleiv it is just the shape[0]\n",
    "scaler = MinMaxScaler(feature_range=(0, 1)) #this is called normalizing (an action that is performed on an array). Here you only specify the range.\n",
    "scaled_data = scaler.fit_transform(dataset) #maps values in the array to a values in the interval (0,1) while keeping the same distribution of dataset. Reason: MLs work best if all data is scaled similarly.\n",
    "training_data_len = int(len(dataset) * 0.8) #here I look at the length of my original data and take 80% of it and I need an intiger because ill use the value as input an need intiger\n",
    "train_data = scaled_data[0:training_data_len, :] #this is the subset of my scaled data that I will use for taining the ML scaled_data[rows,columns]\n",
    "test_data = scaled_data[training_data_len:, :] #this is the subset of my scaled data that I will use for testing the ML (in short this data is unseen to the ML and fed to the ML after it was trained to spit the predictions it was trained to do)\n",
    "#here you can also have an overlap between the 2 datasets for xyz reasons but I kept it simple 80% seen and 20% unseen"
   ]
  },
  {
   "cell_type": "code",
   "execution_count": 3,
   "id": "c53f25c9-ed21-427c-b19e-f0afdbc53ab3",
   "metadata": {},
   "outputs": [],
   "source": [
    "x_train = []\n",
    "y_train = []\n",
    "window_size = 30 #this means I believe 12 sequential values are good enough for the ML to take in so as to predict the 13th\n",
    "for i in range(window_size, len(train_data)):\n",
    "    x_train.append(train_data[i-window_size:i, 0]) #values used to train the model\n",
    "    y_train.append(train_data[i, 0]) #values used as validation (valus to be predicted by the model in training)\n",
    "#print(x_train[:2])\n",
    "#print(y_train)\n",
    "#these are lists of arrays"
   ]
  },
  {
   "cell_type": "code",
   "execution_count": 4,
   "id": "110bb2ca-7803-4880-ab0f-63d7b4ed3d03",
   "metadata": {},
   "outputs": [],
   "source": [
    "x_train = np.array(x_train) #this is the array with the sequences of values that are used as input for training\n",
    "y_train = np.array(y_train) #this is the array with the predictions that are used for training\n",
    "#in a nutshell both arrays are used for training. x is the input and y is the output and the ML learns to mimic the process meaning given 12 values spit the 13th. And because here you don't actually predict anything since all values are known you use this to train the ML meaning the ML takes the data you just inputed as input and output for granted\n",
    "#the above are singular arrays ok\n",
    "x_train = np.reshape(x_train, (x_train.shape[0], x_train.shape[1], 1)) #this is an array of arrays #kinda intuitive that you need that because y_train is safe to be a singlular arry cause you match the 12 values to 1 prediction so that 1 prediction can be the first element of an array but the 12 values are the first element of an array too so that is why you need arrays of arrays because for x the \"first value\" is the 12 values which you gotta stuff into an array cause you need to understand that there are 12 values stuck in there\n",
    "#print(x_train) this is a 3-D array"
   ]
  },
  {
   "cell_type": "code",
   "execution_count": 5,
   "id": "73a8f870",
   "metadata": {},
   "outputs": [
    {
     "name": "stderr",
     "output_type": "stream",
     "text": [
      "c:\\Users\\Bogdan\\anaconda3\\Lib\\site-packages\\keras\\src\\layers\\rnn\\rnn.py:204: UserWarning: Do not pass an `input_shape`/`input_dim` argument to a layer. When using Sequential models, prefer using an `Input(shape)` object as the first layer in the model instead.\n",
      "  super().__init__(**kwargs)\n"
     ]
    },
    {
     "name": "stdout",
     "output_type": "stream",
     "text": [
      "WARNING:tensorflow:5 out of the last 9 calls to <function TensorFlowTrainer.make_test_function.<locals>.one_step_on_iterator at 0x000001FFE82660C0> triggered tf.function retracing. Tracing is expensive and the excessive number of tracings could be due to (1) creating @tf.function repeatedly in a loop, (2) passing tensors with different shapes, (3) passing Python objects instead of tensors. For (1), please define your @tf.function outside of the loop. For (2), @tf.function has reduce_retracing=True option that can avoid unnecessary retracing. For (3), please refer to https://www.tensorflow.org/guide/function#controlling_retracing and https://www.tensorflow.org/api_docs/python/tf/function for  more details.\n",
      "WARNING:tensorflow:6 out of the last 11 calls to <function TensorFlowTrainer.make_test_function.<locals>.one_step_on_iterator at 0x000001FFEA7E1080> triggered tf.function retracing. Tracing is expensive and the excessive number of tracings could be due to (1) creating @tf.function repeatedly in a loop, (2) passing tensors with different shapes, (3) passing Python objects instead of tensors. For (1), please define your @tf.function outside of the loop. For (2), @tf.function has reduce_retracing=True option that can avoid unnecessary retracing. For (3), please refer to https://www.tensorflow.org/guide/function#controlling_retracing and https://www.tensorflow.org/api_docs/python/tf/function for  more details.\n",
      "Best Score: 0.004601293010637164 using {'batch_size': 8, 'epochs': 20}\n"
     ]
    }
   ],
   "source": [
    "from tensorflow.keras.models import Sequential\n",
    "from tensorflow.keras.layers import LSTM, Dense\n",
    "from sklearn.model_selection import KFold\n",
    "import numpy as np\n",
    "\n",
    "# Parameters to iterate over\n",
    "batch_sizes = [8, 16, 32]\n",
    "epochs = [10, 20, 30]\n",
    "kf = KFold(n_splits=3) #split the train data into 3 splits (2 for trainin and 1 for validation) and train and validate 3 times (each split will be used as validation, like you swap them)\n",
    "#you are only using 2/3 to trian the model, tho other 1/3 is to actually test the model and see performance\n",
    "\n",
    "def create_model(batch_size):\n",
    "    model = Sequential()\n",
    "    model.add(LSTM(units=50, return_sequences=True, input_shape=(window_size, 1)))\n",
    "    model.add(LSTM(units=50, return_sequences=False))\n",
    "    model.add(Dense(25))\n",
    "    model.add(Dense(1))\n",
    "    model.compile(optimizer='adam', loss='mean_squared_error')\n",
    "    return model\n",
    "\n",
    "best_score = np.inf\n",
    "best_params = {}\n",
    "\n",
    "for batch in batch_sizes:\n",
    "    for epoch in epochs:\n",
    "        scores = []\n",
    "        for train_index, test_index in kf.split(x_train): #here is the cool stuff, kf.split() pairs indexes (training and testing) into 3 folds, like the pairing is the right index pairing like it's not random and that is why you have both x-train and y_train becasue if you fold the x_train into 3 chunks you need to do the same for y_train AND make sure you do it identically so that the folds in the x_train have a their corresponding fold in the y_train. And then you take the indexes and say these 2 for training and this one for testing and repeat 3 times like get all the combinations literally\n",
    "            model = create_model(batch)\n",
    "            x_train_fold = x_train[train_index]\n",
    "            x_test_fold = x_train[test_index]\n",
    "            y_train_fold = y_train[train_index]\n",
    "            y_test_fold = y_train[test_index]\n",
    "            model.fit(x_train_fold, y_train_fold, batch_size=batch, epochs=epoch, verbose=0)\n",
    "            scores.append(model.evaluate(x_test_fold, y_test_fold, verbose=0))\n",
    "        average_score = np.mean(scores) #assumed that if you train the model more times with different data and average the score it will be more robust and like realistic than if you were to choose to trin once on one data set\n",
    "        if average_score < best_score:\n",
    "            best_score = average_score\n",
    "            best_params = {'batch_size': batch, 'epochs': epoch}\n",
    "\n",
    "print(f\"Best Score: {best_score} using {best_params}\")"
   ]
  },
  {
   "cell_type": "code",
   "execution_count": 6,
   "id": "e50dff23-55b1-4022-b021-65a8ad12e040",
   "metadata": {},
   "outputs": [
    {
     "name": "stdout",
     "output_type": "stream",
     "text": [
      "Epoch 1/20\n",
      "\u001b[1m15/15\u001b[0m \u001b[32m━━━━━━━━━━━━━━━━━━━━\u001b[0m\u001b[37m\u001b[0m \u001b[1m11s\u001b[0m 27ms/step - loss: 0.0283\n",
      "Epoch 2/20\n",
      "\u001b[1m15/15\u001b[0m \u001b[32m━━━━━━━━━━━━━━━━━━━━\u001b[0m\u001b[37m\u001b[0m \u001b[1m1s\u001b[0m 29ms/step - loss: 0.0120\n",
      "Epoch 3/20\n",
      "\u001b[1m15/15\u001b[0m \u001b[32m━━━━━━━━━━━━━━━━━━━━\u001b[0m\u001b[37m\u001b[0m \u001b[1m1s\u001b[0m 28ms/step - loss: 0.0069\n",
      "Epoch 4/20\n",
      "\u001b[1m15/15\u001b[0m \u001b[32m━━━━━━━━━━━━━━━━━━━━\u001b[0m\u001b[37m\u001b[0m \u001b[1m1s\u001b[0m 29ms/step - loss: 0.0067\n",
      "Epoch 5/20\n",
      "\u001b[1m15/15\u001b[0m \u001b[32m━━━━━━━━━━━━━━━━━━━━\u001b[0m\u001b[37m\u001b[0m \u001b[1m1s\u001b[0m 33ms/step - loss: 0.0057\n",
      "Epoch 6/20\n",
      "\u001b[1m15/15\u001b[0m \u001b[32m━━━━━━━━━━━━━━━━━━━━\u001b[0m\u001b[37m\u001b[0m \u001b[1m1s\u001b[0m 44ms/step - loss: 0.0054\n",
      "Epoch 7/20\n",
      "\u001b[1m15/15\u001b[0m \u001b[32m━━━━━━━━━━━━━━━━━━━━\u001b[0m\u001b[37m\u001b[0m \u001b[1m1s\u001b[0m 26ms/step - loss: 0.0054\n",
      "Epoch 8/20\n",
      "\u001b[1m15/15\u001b[0m \u001b[32m━━━━━━━━━━━━━━━━━━━━\u001b[0m\u001b[37m\u001b[0m \u001b[1m0s\u001b[0m 28ms/step - loss: 0.0054\n",
      "Epoch 9/20\n",
      "\u001b[1m15/15\u001b[0m \u001b[32m━━━━━━━━━━━━━━━━━━━━\u001b[0m\u001b[37m\u001b[0m \u001b[1m0s\u001b[0m 27ms/step - loss: 0.0052\n",
      "Epoch 10/20\n",
      "\u001b[1m15/15\u001b[0m \u001b[32m━━━━━━━━━━━━━━━━━━━━\u001b[0m\u001b[37m\u001b[0m \u001b[1m0s\u001b[0m 25ms/step - loss: 0.0049\n",
      "Epoch 11/20\n",
      "\u001b[1m15/15\u001b[0m \u001b[32m━━━━━━━━━━━━━━━━━━━━\u001b[0m\u001b[37m\u001b[0m \u001b[1m0s\u001b[0m 25ms/step - loss: 0.0045\n",
      "Epoch 12/20\n",
      "\u001b[1m15/15\u001b[0m \u001b[32m━━━━━━━━━━━━━━━━━━━━\u001b[0m\u001b[37m\u001b[0m \u001b[1m0s\u001b[0m 25ms/step - loss: 0.0043\n",
      "Epoch 13/20\n",
      "\u001b[1m15/15\u001b[0m \u001b[32m━━━━━━━━━━━━━━━━━━━━\u001b[0m\u001b[37m\u001b[0m \u001b[1m0s\u001b[0m 24ms/step - loss: 0.0043\n",
      "Epoch 14/20\n",
      "\u001b[1m15/15\u001b[0m \u001b[32m━━━━━━━━━━━━━━━━━━━━\u001b[0m\u001b[37m\u001b[0m \u001b[1m0s\u001b[0m 28ms/step - loss: 0.0042\n",
      "Epoch 15/20\n",
      "\u001b[1m15/15\u001b[0m \u001b[32m━━━━━━━━━━━━━━━━━━━━\u001b[0m\u001b[37m\u001b[0m \u001b[1m1s\u001b[0m 34ms/step - loss: 0.0040\n",
      "Epoch 16/20\n",
      "\u001b[1m15/15\u001b[0m \u001b[32m━━━━━━━━━━━━━━━━━━━━\u001b[0m\u001b[37m\u001b[0m \u001b[1m1s\u001b[0m 32ms/step - loss: 0.0039\n",
      "Epoch 17/20\n",
      "\u001b[1m15/15\u001b[0m \u001b[32m━━━━━━━━━━━━━━━━━━━━\u001b[0m\u001b[37m\u001b[0m \u001b[1m1s\u001b[0m 35ms/step - loss: 0.0038\n",
      "Epoch 18/20\n",
      "\u001b[1m15/15\u001b[0m \u001b[32m━━━━━━━━━━━━━━━━━━━━\u001b[0m\u001b[37m\u001b[0m \u001b[1m0s\u001b[0m 24ms/step - loss: 0.0037\n",
      "Epoch 19/20\n",
      "\u001b[1m15/15\u001b[0m \u001b[32m━━━━━━━━━━━━━━━━━━━━\u001b[0m\u001b[37m\u001b[0m \u001b[1m0s\u001b[0m 27ms/step - loss: 0.0037\n",
      "Epoch 20/20\n",
      "\u001b[1m15/15\u001b[0m \u001b[32m━━━━━━━━━━━━━━━━━━━━\u001b[0m\u001b[37m\u001b[0m \u001b[1m0s\u001b[0m 27ms/step - loss: 0.0036\n"
     ]
    },
    {
     "data": {
      "text/plain": [
       "<keras.src.callbacks.history.History at 0x1ff94c0b150>"
      ]
     },
     "execution_count": 6,
     "metadata": {},
     "output_type": "execute_result"
    }
   ],
   "source": [
    "model = Sequential()\n",
    "model.add(LSTM(50, return_sequences=True, input_shape=(window_size, 1))) #50 is the number of units/neurons, return_sequences = True means this layer will return a sequence of vectors each containing the states of the neurons at one timestep of the input sequence that is of length window_size to the next layer  input_shape declares the structure of the input expected. here you have arrays of 12x1\n",
    "#in short this layer returns a sequence of 12/window_size vectors with each vector containing 50 elements/states representing states of the neurons\n",
    "#what happens is you feed the first value of the input_sequence(to be determined) to all neurons simultaneously then you save the state of all neurons in a vector (that is the very first vector containing 50 elements/states at timestep 1 which is the first value fed). Aterwards you feed the second value to all neurons, the states might change and save the states to the second vector and so on\n",
    "model.add(LSTM(50, return_sequences=False))#return_sequences=Flase means the layer will return the vector containing the neuron states at the last timestep\n",
    "model.add(Dense(25))#25 neurons all connected to the previous layer's neurons,  each neuron in dense does a weighted sum of the inputs it receives, output 25 values computed as a weighted sum of inputs.\n",
    "model.add(Dense(1))#1 neuron that will output a single value computed as a weighted sum of its inputs.\n",
    "\n",
    "model.compile(optimizer='adam', loss='mean_squared_error') #this configures the model to aim to minimize the loss function = MSE by adapting the weights assigned to parameters by the Adam algorithm\n",
    "model.fit(x_train, y_train, batch_size=8, epochs=20) #batch_size = 1 means that I want to take 1 input at a time so one of those 12x1 arrays at a time + model will update its weights after each sample epochs=1 means I want to go through all the x_train dataset once\n",
    "#also y_train is the results dataset that you calculate the predictions MSE against in the training stage. So the model will take the first array within x_train array, will start off by having random weights (input + recurrent) which will be adjusted to minimize the MSE. This process occurs for the number of batches and what you want to happen is to get to a point where the weights converge to a value\n",
    "#this ML model skips the validation stage (will be covered as I learn) this means we use the default settings of adam"
   ]
  },
  {
   "cell_type": "code",
   "execution_count": 7,
   "id": "028d5739-73b1-4a89-9029-3bc1660139ce",
   "metadata": {},
   "outputs": [
    {
     "name": "stdout",
     "output_type": "stream",
     "text": [
      "\u001b[1m1/1\u001b[0m \u001b[32m━━━━━━━━━━━━━━━━━━━━\u001b[0m\u001b[37m\u001b[0m \u001b[1m1s\u001b[0m 1s/step\n"
     ]
    },
    {
     "data": {
      "text/html": [
       "<div>\n",
       "<style scoped>\n",
       "    .dataframe tbody tr th:only-of-type {\n",
       "        vertical-align: middle;\n",
       "    }\n",
       "\n",
       "    .dataframe tbody tr th {\n",
       "        vertical-align: top;\n",
       "    }\n",
       "\n",
       "    .dataframe thead th {\n",
       "        text-align: right;\n",
       "    }\n",
       "</style>\n",
       "<table border=\"1\" class=\"dataframe\">\n",
       "  <thead>\n",
       "    <tr style=\"text-align: right;\">\n",
       "      <th></th>\n",
       "      <th>MORTGAGE30US</th>\n",
       "      <th>Predictions</th>\n",
       "    </tr>\n",
       "    <tr>\n",
       "      <th>DATE</th>\n",
       "      <th></th>\n",
       "      <th></th>\n",
       "    </tr>\n",
       "  </thead>\n",
       "  <tbody>\n",
       "    <tr>\n",
       "      <th>2024-02-01</th>\n",
       "      <td>6.7760</td>\n",
       "      <td>5.781711</td>\n",
       "    </tr>\n",
       "    <tr>\n",
       "      <th>2024-03-01</th>\n",
       "      <td>6.8200</td>\n",
       "      <td>5.623987</td>\n",
       "    </tr>\n",
       "    <tr>\n",
       "      <th>2024-04-01</th>\n",
       "      <td>6.9925</td>\n",
       "      <td>5.511147</td>\n",
       "    </tr>\n",
       "    <tr>\n",
       "      <th>2024-05-01</th>\n",
       "      <td>7.0600</td>\n",
       "      <td>5.475802</td>\n",
       "    </tr>\n",
       "    <tr>\n",
       "      <th>2024-06-01</th>\n",
       "      <td>6.9175</td>\n",
       "      <td>5.492104</td>\n",
       "    </tr>\n",
       "    <tr>\n",
       "      <th>2024-07-01</th>\n",
       "      <td>6.8475</td>\n",
       "      <td>5.495115</td>\n",
       "    </tr>\n",
       "    <tr>\n",
       "      <th>2024-08-01</th>\n",
       "      <td>6.5000</td>\n",
       "      <td>5.480658</td>\n",
       "    </tr>\n",
       "  </tbody>\n",
       "</table>\n",
       "</div>"
      ],
      "text/plain": [
       "            MORTGAGE30US  Predictions\n",
       "DATE                                 \n",
       "2024-02-01        6.7760     5.781711\n",
       "2024-03-01        6.8200     5.623987\n",
       "2024-04-01        6.9925     5.511147\n",
       "2024-05-01        7.0600     5.475802\n",
       "2024-06-01        6.9175     5.492104\n",
       "2024-07-01        6.8475     5.495115\n",
       "2024-08-01        6.5000     5.480658"
      ]
     },
     "execution_count": 7,
     "metadata": {},
     "output_type": "execute_result"
    }
   ],
   "source": [
    "x_test = [] #list of 2d arrays\n",
    "y_test = [] #same\n",
    "window_size = 30 #this means I believe 60 sequential values are good enough for the ML to take in so as to predict the 13\n",
    "for i in range(window_size, len(test_data)):\n",
    "    x_test.append(test_data[i-window_size:i, 0])\n",
    "    y_test.append(test_data[i, 0])\n",
    "\n",
    "x_test = np.array(x_test) #2d array\n",
    "y_test = np.array(y_test) #2d array\n",
    "\n",
    "x_test = np.reshape(x_test, (x_test.shape[0], x_test.shape[1], 1)) #convert to a 3-D array like before\n",
    "\n",
    "predictions = model.predict(x_test) #applies the trained model to the input data x_test and outputs predictions based on the learned patterns and relationships in the training data.\n",
    "predictions = scaler.inverse_transform(predictions) #transform predicted values back to their original scale or units before they were normalized\n",
    "\n",
    "train = data[:training_data_len]#wanna plot all the observations used for training\n",
    "the_test_window = data[training_data_len:training_data_len + window_size]\n",
    "test = data[training_data_len + window_size:]#wanna plot all the observations that follow after the ones used for training\n",
    "test = pd.DataFrame(test)\n",
    "test['Predictions'] = predictions #create a column in valid where I store the predictions\n",
    "test\n"
   ]
  },
  {
   "cell_type": "code",
   "execution_count": 8,
   "id": "077daae1-c59a-466a-b9c5-1d61d78b9b6a",
   "metadata": {},
   "outputs": [
    {
     "data": {
      "image/png": "[encoded data removed]",
      "text/plain": [
       "<Figure size 1000x600 with 1 Axes>"
      ]
     },
     "metadata": {},
     "output_type": "display_data"
    }
   ],
   "source": [
    "plt.figure(figsize=(10, 6))\n",
    "plt.title(\"Model\")\n",
    "plt.xlabel(\"Date\", fontsize=10)\n",
    "plt.ylabel(\"Price\", fontsize=10)\n",
    "plt.plot(train.index, train, label=\"Train\", linewidth=0.8)\n",
    "plt.plot(the_test_window.index, the_test_window, label = 'The test window', linewidth=0.8)\n",
    "plt.plot(test.index, test[name], label=\"Test\", linewidth=0.8)\n",
    "plt.plot(test.index, test[\"Predictions\"], label=\"Predictions\", linewidth=0.8)\n",
    "plt.legend()\n",
    "plt.show()"
   ]
  },
  {
   "cell_type": "code",
   "execution_count": 9,
   "id": "45767e72",
   "metadata": {},
   "outputs": [
    {
     "name": "stdout",
     "output_type": "stream",
     "text": [
      "Root Mean Squared Error: 1.3105563992601463\n"
     ]
    }
   ],
   "source": [
    "residuals = test[name] - test['Predictions']\n",
    "\n",
    "print('Root Mean Squared Error:', np.sqrt(np.mean(residuals**2)))"
   ]
  }
 ],
 "metadata": {
  "kernelspec": {
   "display_name": "Python 3 (ipykernel)",
   "language": "python",
   "name": "python3"
  },
  "language_info": {
   "codemirror_mode": {
    "name": "ipython",
    "version": 3
   },
   "file_extension": ".py",
   "mimetype": "text/x-python",
   "name": "python",
   "nbconvert_exporter": "python",
   "pygments_lexer": "ipython3",
   "version": "3.11.5"
  }
 },
 "nbformat": 4,
 "nbformat_minor": 5
}
